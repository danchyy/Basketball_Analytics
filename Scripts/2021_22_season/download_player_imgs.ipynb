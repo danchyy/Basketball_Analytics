{
 "cells": [
  {
   "cell_type": "code",
   "execution_count": 1,
   "metadata": {},
   "outputs": [],
   "source": [
    "import numpy as np\n",
    "import matplotlib.pyplot as plt\n",
    "import pandas as pd\n",
    "import seaborn as sns\n",
    "from pathlib import Path\n",
    "\n",
    "from nba_api.stats.endpoints.shotchartdetail import ShotChartDetail\n",
    "import requests\n",
    "from nba_api.stats.static.players import find_players_by_full_name\n",
    "from adjustText import adjust_text\n",
    "from io import BytesIO\n",
    "import time\n",
    "import tqdm\n",
    "\n",
    "from PIL import Image\n",
    "\n",
    "from nba_api.stats.static.players import get_active_players\n",
    "from nba_api.stats.endpoints.leaguedashplayerstats import LeagueDashPlayerStats"
   ]
  },
  {
   "cell_type": "code",
   "execution_count": 2,
   "metadata": {},
   "outputs": [],
   "source": [
    "player_stats = LeagueDashPlayerStats(season='2021-22')\n",
    "stats_df = player_stats.get_data_frames()[0]"
   ]
  },
  {
   "cell_type": "code",
   "execution_count": 4,
   "metadata": {},
   "outputs": [
    {
     "name": "stderr",
     "output_type": "stream",
     "text": [
      "100%|█████████████████████████████████████████████████████████████████████████████████████████████████████████████████████████████████████████████████████████████████████████████| 444/444 [02:31<00:00,  2.92it/s]\n"
     ]
    }
   ],
   "source": [
    "for index in tqdm.tqdm(range(len(stats_df))):\n",
    "    item = stats_df.iloc[index]\n",
    "    team_id = item.TEAM_ID\n",
    "    player_id = item.PLAYER_ID\n",
    "    \n",
    "    path = Path(f'player_imgs/{player_id}.png').absolute()\n",
    "    #print(f\"Working on {player_id}\")\n",
    "    if path.exists():\n",
    "        continue\n",
    "    #img = Image.open(str(path))\n",
    "    #if img.size[0] < 400:\n",
    "    #    continue\n",
    "    \n",
    "    url = f\"https://ak-static.cms.nba.com/wp-content/uploads/headshots/nba/{team_id}/2021/260x190/{player_id}.png\"\n",
    "    response = requests.get(url)\n",
    "    if response.status_code != 200:\n",
    "        url = f\"https://cdn.nba.com/headshots/nba/latest/260x190/{player_id}.png\"\n",
    "        response = requests.get(url)\n",
    "    img = Image.open(BytesIO(response.content))\n",
    "    with open(f'player_imgs/{player_id}.png', 'wb') as f:\n",
    "        f.write(response.content)\n",
    "    time.sleep(0.05)"
   ]
  },
  {
   "cell_type": "code",
   "execution_count": null,
   "metadata": {},
   "outputs": [],
   "source": []
  }
 ],
 "metadata": {
  "kernelspec": {
   "display_name": "Python 3",
   "language": "python",
   "name": "python3"
  },
  "language_info": {
   "codemirror_mode": {
    "name": "ipython",
    "version": 3
   },
   "file_extension": ".py",
   "mimetype": "text/x-python",
   "name": "python",
   "nbconvert_exporter": "python",
   "pygments_lexer": "ipython3",
   "version": "3.7.4"
  }
 },
 "nbformat": 4,
 "nbformat_minor": 2
}
