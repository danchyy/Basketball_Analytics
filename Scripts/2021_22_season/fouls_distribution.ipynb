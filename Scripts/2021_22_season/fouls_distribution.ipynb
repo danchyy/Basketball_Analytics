{
 "cells": [
  {
   "cell_type": "code",
   "execution_count": 1,
   "metadata": {},
   "outputs": [],
   "source": [
    "import numpy as np\n",
    "import matplotlib.pyplot as plt\n",
    "import seaborn as sns\n",
    "import pandas as pd\n",
    "import requests\n",
    "import tqdm\n",
    "from time import sleep\n",
    "import time\n",
    "from PIL import Image\n",
    "from io import BytesIO\n",
    "from adjustText import adjust_text\n"
   ]
  },
  {
   "cell_type": "code",
   "execution_count": 2,
   "metadata": {},
   "outputs": [],
   "source": [
    "from nba_api.stats.static.players import find_players_by_full_name\n",
    "from nba_api.stats.static.teams import find_teams_by_full_name, get_teams, find_team_name_by_id\n",
    "from nba_api.stats.endpoints.playbyplayv2 import PlayByPlayV2\n",
    "from nba_api.stats.endpoints.leaguegamefinder import LeagueGameFinder\n",
    "from nba_api.stats.endpoints.shotchartdetail import ShotChartDetail"
   ]
  },
  {
   "cell_type": "code",
   "execution_count": 3,
   "metadata": {},
   "outputs": [],
   "source": [
    "from nba_api.stats.endpoints.leaguedashplayerstats import LeagueDashPlayerStats\n",
    "from collections import Counter"
   ]
  },
  {
   "cell_type": "code",
   "execution_count": 9,
   "metadata": {},
   "outputs": [
    {
     "data": {
      "text/html": [
       "<style>.container { width:100% !important; }</style>"
      ],
      "text/plain": [
       "<IPython.core.display.HTML object>"
      ]
     },
     "metadata": {},
     "output_type": "display_data"
    }
   ],
   "source": [
    "from IPython.core.display import display, HTML\n",
    "display(HTML(\"<style>.container { width:100% !important; }</style>\"))"
   ]
  },
  {
   "cell_type": "code",
   "execution_count": 4,
   "metadata": {},
   "outputs": [],
   "source": [
    "full_df = pd.read_csv('pbp_data/2021-22.csv')\n",
    "\n",
    "full_df = full_df.fillna({\n",
    "    \"HOMEDESCRIPTION\": \"\",\n",
    "    \"NEUTRALDESCRIPTION\": \"\",\n",
    "    \"VISITORDESCRIPTION\": \"\"\n",
    "})\n",
    "full_df.loc[:, 'GAME_ID'] = [f\"00{item}\" for item in full_df.GAME_ID.astype(str)]"
   ]
  },
  {
   "cell_type": "code",
   "execution_count": null,
   "metadata": {},
   "outputs": [],
   "source": []
  }
 ],
 "metadata": {
  "kernelspec": {
   "display_name": "Python 3",
   "language": "python",
   "name": "python3"
  },
  "language_info": {
   "codemirror_mode": {
    "name": "ipython",
    "version": 3
   },
   "file_extension": ".py",
   "mimetype": "text/x-python",
   "name": "python",
   "nbconvert_exporter": "python",
   "pygments_lexer": "ipython3",
   "version": "3.7.4"
  }
 },
 "nbformat": 4,
 "nbformat_minor": 2
}
