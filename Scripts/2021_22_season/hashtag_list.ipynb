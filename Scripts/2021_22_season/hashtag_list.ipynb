{
 "cells": [
  {
   "cell_type": "code",
   "execution_count": 1,
   "metadata": {},
   "outputs": [],
   "source": [
    "from bs4 import BeautifulSoup"
   ]
  },
  {
   "cell_type": "code",
   "execution_count": 37,
   "metadata": {},
   "outputs": [],
   "source": [
    "import pandas as pd"
   ]
  },
  {
   "cell_type": "code",
   "execution_count": 11,
   "metadata": {},
   "outputs": [],
   "source": [
    "with open('hashtag_rankings.txt') as f:\n",
    "    text = f.read()"
   ]
  },
  {
   "cell_type": "code",
   "execution_count": 12,
   "metadata": {},
   "outputs": [],
   "source": [
    "soup = BeautifulSoup(text)"
   ]
  },
  {
   "cell_type": "code",
   "execution_count": 18,
   "metadata": {
    "scrolled": false
   },
   "outputs": [],
   "source": [
    "player_table = soup.findAll('table')[2]"
   ]
  },
  {
   "cell_type": "code",
   "execution_count": 22,
   "metadata": {},
   "outputs": [],
   "source": [
    "rows = player_table.findAll('tr')[1:]"
   ]
  },
  {
   "cell_type": "code",
   "execution_count": 41,
   "metadata": {},
   "outputs": [],
   "source": [
    "columns = {\n",
    "    'RANK': 0,\n",
    "    'ADP': 1,\n",
    "    'PLAYER': 2,\n",
    "    'POS': 3,\n",
    "    'TEAM': 4,\n",
    "    'GP': 5,\n",
    "    'MPG': 6,\n",
    "    'FG_PCT': 7,\n",
    "    'FT_PCT': 8,\n",
    "    '3PM': 9,\n",
    "    'PTS': 10,\n",
    "    'TREB': 11,\n",
    "    'AST': 12,\n",
    "    'STL': 13,\n",
    "    'BLK': 14,\n",
    "    'TO': 15,\n",
    "    'TOTAL': 16\n",
    "}\n",
    "\n",
    "reversed_columns = {\n",
    "    value: key for key, value in columns.items()\n",
    "}\n",
    "\n",
    "data = {\n",
    "    key: [] for key in columns\n",
    "}\n",
    "\n",
    "for row in rows:\n",
    "    cells = row.findAll('td')\n",
    "    if cells[0].text.strip().split(\"\\n\")[0] == 'R#':\n",
    "        continue\n",
    "    for index, cell in enumerate(cells):\n",
    "        data[reversed_columns[index]].append(cell.text.strip().split(\"\\n\")[0])\n"
   ]
  },
  {
   "cell_type": "code",
   "execution_count": 42,
   "metadata": {},
   "outputs": [],
   "source": [
    "df = pd.DataFrame(data)"
   ]
  },
  {
   "cell_type": "code",
   "execution_count": 44,
   "metadata": {},
   "outputs": [],
   "source": [
    "df.to_csv('hashtag_data.csv', index=False, sep='\\t')"
   ]
  },
  {
   "cell_type": "code",
   "execution_count": null,
   "metadata": {},
   "outputs": [],
   "source": []
  }
 ],
 "metadata": {
  "kernelspec": {
   "display_name": "Python 3",
   "language": "python",
   "name": "python3"
  },
  "language_info": {
   "codemirror_mode": {
    "name": "ipython",
    "version": 3
   },
   "file_extension": ".py",
   "mimetype": "text/x-python",
   "name": "python",
   "nbconvert_exporter": "python",
   "pygments_lexer": "ipython3",
   "version": "3.7.4"
  }
 },
 "nbformat": 4,
 "nbformat_minor": 2
}
