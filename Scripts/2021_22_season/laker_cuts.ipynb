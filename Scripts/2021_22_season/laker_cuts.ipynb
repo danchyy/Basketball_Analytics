{
 "cells": [
  {
   "cell_type": "code",
   "execution_count": 1,
   "metadata": {},
   "outputs": [],
   "source": [
    "import numpy as np\n",
    "import matplotlib.pyplot as plt\n",
    "import pandas as pd\n",
    "import seaborn as sns\n",
    "\n",
    "import tqdm\n",
    "from nba_api.stats.endpoints.shotchartdetail import ShotChartDetail\n",
    "import requests\n",
    "from nba_api.stats.static.players import find_players_by_full_name\n",
    "from adjustText import adjust_text\n",
    "from io import BytesIO\n",
    "import matplotlib.pyplot as plt\n",
    "from matplotlib.offsetbox import OffsetImage, AnnotationBbox\n",
    "import time\n",
    "from PIL import Image\n",
    "from collections import defaultdict"
   ]
  },
  {
   "cell_type": "code",
   "execution_count": 2,
   "metadata": {},
   "outputs": [
    {
     "data": {
      "text/html": [
       "<style>.container { width:100% !important; }</style>"
      ],
      "text/plain": [
       "<IPython.core.display.HTML object>"
      ]
     },
     "metadata": {},
     "output_type": "display_data"
    }
   ],
   "source": [
    "from IPython.core.display import display, HTML\n",
    "display(HTML(\"<style>.container { width:100% !important; }</style>\"))"
   ]
  },
  {
   "cell_type": "code",
   "execution_count": 3,
   "metadata": {},
   "outputs": [],
   "source": [
    "from nba_api.stats.endpoints.playbyplayv2 import PlayByPlayV2\n",
    "\n",
    "from nba_api.stats.endpoints.playbyplay import PlayByPlay\n",
    "from nba_api.stats.endpoints.leaguegamefinder import LeagueGameFinder\n",
    "from nba_api.stats.static.players import find_players_by_full_name\n",
    "from nba_api.stats.static.teams import find_teams_by_full_name\n",
    "from nba_api.stats.endpoints.playergamelogs import PlayerGameLogs\n",
    "from nba_api.stats.endpoints.boxscoretraditionalv2 import BoxScoreTraditionalV2\n",
    "from nba_api.stats.endpoints.shotchartdetail import ShotChartDetail\n",
    "\n",
    "from nba_api.stats.endpoints.leaguedashteamshotlocations import LeagueDashTeamShotLocations\n",
    "from nba_api.stats.endpoints.leaguedashplayerptshot import LeagueDashPlayerPtShot\n",
    "\n",
    "from nba_api.stats.endpoints.playerdashboardbyshootingsplits import PlayerDashboardByShootingSplits\n",
    "from nba_api.stats.endpoints.synergyplaytypes import SynergyPlayTypes\n",
    "from nba_api.stats.endpoints.leaguedashptstats import LeagueDashPtStats\n",
    "from nba_api.stats.endpoints.leaguedashplayerstats import LeagueDashPlayerStats\n",
    "\n",
    "from nba_api.stats.endpoints.leaguehustlestatsplayer import LeagueHustleStatsPlayer\n",
    "from nba_api.stats.endpoints.leaguedashteamstats import LeagueDashTeamStats\n",
    "from nba_api.stats.endpoints.leaguehustlestatsteam import LeagueHustleStatsTeam\n",
    "from nba_api.stats.endpoints.leaguedashteamstats import LeagueDashTeamStats"
   ]
  },
  {
   "cell_type": "code",
   "execution_count": 4,
   "metadata": {},
   "outputs": [],
   "source": [
    "lakers_id = find_teams_by_full_name(\"Los Angeles Lakers\")[0]['id']"
   ]
  },
  {
   "cell_type": "code",
   "execution_count": 5,
   "metadata": {},
   "outputs": [],
   "source": [
    "shots_current = ShotChartDetail(team_id=lakers_id, player_id=0, season_nullable='2021-22').get_data_frames()[0]"
   ]
  },
  {
   "cell_type": "code",
   "execution_count": 6,
   "metadata": {},
   "outputs": [],
   "source": [
    "shots_last = ShotChartDetail(team_id=lakers_id, player_id=0, season_nullable='2020-21').get_data_frames()[0]"
   ]
  },
  {
   "cell_type": "code",
   "execution_count": 11,
   "metadata": {},
   "outputs": [],
   "source": [
    "last_actions = shots_last.ACTION_TYPE.value_counts().to_dict()\n",
    "total_cuts = 0\n",
    "for key in last_actions:\n",
    "    if 'Cut' in key or 'cut' in key:\n",
    "        total_cuts += last_actions[key]"
   ]
  },
  {
   "cell_type": "code",
   "execution_count": 12,
   "metadata": {},
   "outputs": [
    {
     "data": {
      "text/plain": [
       "240"
      ]
     },
     "execution_count": 12,
     "metadata": {},
     "output_type": "execute_result"
    }
   ],
   "source": [
    "total_cuts"
   ]
  },
  {
   "cell_type": "code",
   "execution_count": 15,
   "metadata": {},
   "outputs": [
    {
     "data": {
      "text/plain": [
       "3.3333333333333335"
      ]
     },
     "execution_count": 15,
     "metadata": {},
     "output_type": "execute_result"
    }
   ],
   "source": [
    "240 / 72"
   ]
  },
  {
   "cell_type": "code",
   "execution_count": 13,
   "metadata": {},
   "outputs": [],
   "source": [
    "cur_actions = shots_current.ACTION_TYPE.value_counts().to_dict()\n",
    "total_cuts = 0\n",
    "for key in cur_actions:\n",
    "    if 'Cut' in key or 'cut' in key:\n",
    "        total_cuts += cur_actions[key]"
   ]
  },
  {
   "cell_type": "code",
   "execution_count": 14,
   "metadata": {},
   "outputs": [
    {
     "data": {
      "text/plain": [
       "144"
      ]
     },
     "execution_count": 14,
     "metadata": {},
     "output_type": "execute_result"
    }
   ],
   "source": [
    "total_cuts"
   ]
  },
  {
   "cell_type": "code",
   "execution_count": 16,
   "metadata": {},
   "outputs": [
    {
     "data": {
      "text/plain": [
       "3.0638297872340425"
      ]
     },
     "execution_count": 16,
     "metadata": {},
     "output_type": "execute_result"
    }
   ],
   "source": [
    "144 / 47"
   ]
  },
  {
   "cell_type": "code",
   "execution_count": null,
   "metadata": {},
   "outputs": [],
   "source": []
  }
 ],
 "metadata": {
  "kernelspec": {
   "display_name": "Python 3",
   "language": "python",
   "name": "python3"
  },
  "language_info": {
   "codemirror_mode": {
    "name": "ipython",
    "version": 3
   },
   "file_extension": ".py",
   "mimetype": "text/x-python",
   "name": "python",
   "nbconvert_exporter": "python",
   "pygments_lexer": "ipython3",
   "version": "3.7.4"
  }
 },
 "nbformat": 4,
 "nbformat_minor": 2
}
