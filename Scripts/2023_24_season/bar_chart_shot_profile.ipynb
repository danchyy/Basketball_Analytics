{
 "cells": [
  {
   "cell_type": "code",
   "execution_count": 2,
   "id": "ee417300-a7b7-4a58-bc30-c7099ad6177d",
   "metadata": {},
   "outputs": [],
   "source": [
    "import numpy as np\n",
    "import matplotlib.pyplot as plt\n",
    "from matplotlib.offsetbox import OffsetImage, AnnotationBbox\n",
    "import seaborn as sns\n",
    "import pandas as pd\n",
    "import requests\n",
    "import tqdm\n",
    "from time import sleep\n",
    "from PIL import Image\n",
    "from io import BytesIO\n",
    "from adjustText import adjust_text\n",
    "from pathlib import Path\n",
    "import nba_api\n",
    "\n",
    "from nba_api.stats.static.players import find_players_by_full_name\n",
    "from nba_api.stats.static.teams import find_teams_by_full_name\n",
    "from nba_api.stats.endpoints.playerdashptshotdefend import PlayerDashPtShotDefend\n",
    "from nba_api.stats.endpoints.leaguedashplayerstats import LeagueDashPlayerStats\n",
    "from nba_api.stats.endpoints.shotchartdetail import ShotChartDetail\n",
    "from nba_api.stats.endpoints.leaguedashptstats import LeagueDashPtStats"
   ]
  },
  {
   "cell_type": "code",
   "execution_count": 5,
   "id": "9d17b298-62ef-4d32-bfcf-531026de3811",
   "metadata": {},
   "outputs": [],
   "source": [
    "stats = LeagueDashPtStats(pt_measure_type='Efficiency', per_mode_simple='PerGame', player_or_team='Player').get_data_frames()[0]"
   ]
  },
  {
   "cell_type": "code",
   "execution_count": 7,
   "id": "0117f481-1711-4312-9725-bf0d3e5a74c5",
   "metadata": {},
   "outputs": [
    {
     "data": {
      "text/plain": [
       "PLAYER_ID                1631260\n",
       "PLAYER_NAME             AJ Green\n",
       "TEAM_ID               1610612749\n",
       "TEAM_ABBREVIATION            MIL\n",
       "GP                            11\n",
       "W                              8\n",
       "L                              3\n",
       "MIN                          7.4\n",
       "POINTS                       2.8\n",
       "DRIVE_PTS                    0.0\n",
       "DRIVE_FG_PCT                 0.0\n",
       "CATCH_SHOOT_PTS              2.1\n",
       "CATCH_SHOOT_FG_PCT         0.348\n",
       "PULL_UP_PTS                  0.5\n",
       "PULL_UP_FG_PCT               0.4\n",
       "PAINT_TOUCH_PTS              0.2\n",
       "PAINT_TOUCH_FG_PCT           0.5\n",
       "POST_TOUCH_PTS               0.0\n",
       "POST_TOUCH_FG_PCT            0.0\n",
       "ELBOW_TOUCH_PTS              0.2\n",
       "ELBOW_TOUCH_FG_PCT           1.0\n",
       "EFF_FG_PCT                   0.5\n",
       "Name: 0, dtype: object"
      ]
     },
     "execution_count": 7,
     "metadata": {},
     "output_type": "execute_result"
    }
   ],
   "source": [
    "stats.iloc[0]"
   ]
  },
  {
   "cell_type": "code",
   "execution_count": null,
   "id": "03ce2d70-61e7-49e6-bb07-f7d7b495b58b",
   "metadata": {},
   "outputs": [],
   "source": []
  }
 ],
 "metadata": {
  "kernelspec": {
   "display_name": "Python 3 (ipykernel)",
   "language": "python",
   "name": "python3"
  },
  "language_info": {
   "codemirror_mode": {
    "name": "ipython",
    "version": 3
   },
   "file_extension": ".py",
   "mimetype": "text/x-python",
   "name": "python",
   "nbconvert_exporter": "python",
   "pygments_lexer": "ipython3",
   "version": "3.11.6"
  }
 },
 "nbformat": 4,
 "nbformat_minor": 5
}
