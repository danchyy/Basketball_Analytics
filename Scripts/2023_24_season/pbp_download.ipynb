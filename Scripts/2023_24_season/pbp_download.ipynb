{
 "cells": [
  {
   "cell_type": "code",
   "execution_count": 1,
   "id": "ef271988-f251-4816-959b-7f65dd075785",
   "metadata": {},
   "outputs": [],
   "source": [
    "import requests\n",
    "import pandas as pd\n",
    "import tqdm\n",
    "import bs4\n",
    "import json\n",
    "import matplotlib.pyplot as plt\n",
    "from adjustText import adjust_text\n",
    "from pathlib import Path\n",
    "import time"
   ]
  },
  {
   "cell_type": "code",
   "execution_count": 2,
   "id": "b67ee5fa-3ba0-4b0c-ab4b-818a4bbbf575",
   "metadata": {},
   "outputs": [],
   "source": [
    "from nba_api.stats.endpoints.playbyplayv2 import PlayByPlayV2"
   ]
  },
  {
   "cell_type": "code",
   "execution_count": 3,
   "id": "9b34fbf0-86d1-4ea0-9c28-87f19b8d0830",
   "metadata": {},
   "outputs": [],
   "source": [
    "from nba_api.stats.endpoints.playbyplay import PlayByPlay\n",
    "from nba_api.stats.endpoints.leaguegamefinder import LeagueGameFinder\n",
    "from nba_api.stats.static.players import find_players_by_full_name\n",
    "from nba_api.stats.static.teams import find_teams_by_full_name\n",
    "from nba_api.stats.endpoints.playergamelogs import PlayerGameLogs"
   ]
  },
  {
   "cell_type": "code",
   "execution_count": 4,
   "id": "05865304-fa57-4841-9738-f8bd8d7caac0",
   "metadata": {},
   "outputs": [],
   "source": [
    "path = Path('pbp_data/2023-24.csv')\n",
    "data_frame = None\n",
    "if path.exists():\n",
    "    data_frame = pd.read_csv(str(path))\n",
    "    data_frame.loc[:, 'GAME_ID'] = [f\"00{item}\" for item in data_frame.GAME_ID.astype(str)]"
   ]
  },
  {
   "cell_type": "code",
   "execution_count": 5,
   "id": "4b8464dd-b81e-43c5-aa3f-f4ed1e73b6a5",
   "metadata": {},
   "outputs": [],
   "source": [
    "season = '2023-24'"
   ]
  },
  {
   "cell_type": "code",
   "execution_count": 6,
   "id": "de104c76-17c0-42bd-a09a-d299d8519722",
   "metadata": {},
   "outputs": [],
   "source": [
    "game_finder = LeagueGameFinder(season_nullable=season, league_id_nullable='00', season_type_nullable='Regular Season')\n",
    "df = game_finder.get_data_frames()[0]"
   ]
  },
  {
   "cell_type": "code",
   "execution_count": 7,
   "id": "877918c6-0906-4db4-b533-6713068eb025",
   "metadata": {},
   "outputs": [
    {
     "name": "stdout",
     "output_type": "stream",
     "text": [
      "Processing 2023-24\n"
     ]
    },
    {
     "name": "stderr",
     "output_type": "stream",
     "text": [
      "100%|████████████████████████████████████████████████████████████████████████████████████████████████████████████████████████████████████████████████| 279/279 [00:25<00:00, 11.13it/s]\n"
     ]
    }
   ],
   "source": [
    "season = '2023-24'\n",
    "print(f\"Processing {season}\")\n",
    "pbp_dfs = []\n",
    "game_finder = LeagueGameFinder(season_nullable=season, league_id_nullable='00', season_type_nullable='Regular Season')\n",
    "df = game_finder.get_data_frames()[0]\n",
    "game_ids = df.GAME_ID.unique()\n",
    "for game_id in tqdm.tqdm(game_ids):\n",
    "    if data_frame is not None and game_id in data_frame.GAME_ID.tolist():\n",
    "        continue\n",
    "    while True:\n",
    "        try:\n",
    "            pbp_df = PlayByPlayV2(game_id=game_id).get_data_frames()[0]\n",
    "            break\n",
    "        except Exception as e:\n",
    "            print(f\"Error occured: {e}, Game ID: {game_id}, retrying\")\n",
    "            time.sleep(0.1)\n",
    "    pbp_dfs.append(pbp_df)\n",
    "    time.sleep(0.25)\n",
    "\n",
    "concated_downloaded = pd.concat(pbp_dfs)"
   ]
  },
  {
   "cell_type": "code",
   "execution_count": 8,
   "id": "4ec65698-41fe-4d94-874b-408b22f53494",
   "metadata": {},
   "outputs": [],
   "source": [
    "full_df = pd.concat([data_frame, concated_downloaded])"
   ]
  },
  {
   "cell_type": "code",
   "execution_count": 9,
   "id": "ae8a4144-2828-4395-848a-5eb9bbeaae98",
   "metadata": {},
   "outputs": [],
   "source": [
    "full_df.loc[:, \"PCTIMESECONDS\"] = [720 - (int(item.split(\":\")[0]) * 60 + int(item.split(\":\")[1])) for item in full_df.PCTIMESTRING.tolist()]"
   ]
  },
  {
   "cell_type": "code",
   "execution_count": 10,
   "id": "a7e4ced3-1228-4301-9146-666516e1b493",
   "metadata": {},
   "outputs": [],
   "source": [
    "full_df = full_df.fillna({\n",
    "    \"HOMEDESCRIPTION\": \"\",\n",
    "    \"NEUTRALDESCRIPTION\": \"\",\n",
    "    \"VISITORDESCRIPTION\": \"\"\n",
    "})"
   ]
  },
  {
   "cell_type": "code",
   "execution_count": 11,
   "id": "742acdb0-2012-477b-b852-0027d1c47afe",
   "metadata": {},
   "outputs": [],
   "source": [
    "full_df.to_csv('pbp_data/2023-24.csv', index=False)"
   ]
  },
  {
   "cell_type": "markdown",
   "id": "84eb1e0e-771a-4183-a8a2-1ba2eaabf10a",
   "metadata": {},
   "source": [
    "## Work"
   ]
  },
  {
   "cell_type": "code",
   "execution_count": 21,
   "id": "1428a4cc-0662-41d9-9c01-f9bb625a2edd",
   "metadata": {},
   "outputs": [],
   "source": [
    "path = Path('pbp_data/2022-23.csv')\n",
    "last_df = None\n",
    "if path.exists():\n",
    "    last_df = pd.read_csv(str(path))\n",
    "    last_df.loc[:, 'GAME_ID'] = [f\"00{item}\" for item in last_df.GAME_ID.astype(str)]"
   ]
  },
  {
   "cell_type": "code",
   "execution_count": 22,
   "id": "2c36a613-4d6b-42b2-8b75-8ce179a5eb05",
   "metadata": {},
   "outputs": [
    {
     "data": {
      "text/plain": [
       "976"
      ]
     },
     "execution_count": 22,
     "metadata": {},
     "output_type": "execute_result"
    }
   ],
   "source": [
    "len(last_df.GAME_ID.unique())"
   ]
  },
  {
   "cell_type": "code",
   "execution_count": null,
   "id": "7ca7c4c6-70ad-4283-ab34-ad11f9aeb998",
   "metadata": {},
   "outputs": [],
   "source": []
  }
 ],
 "metadata": {
  "kernelspec": {
   "display_name": "Python 3 (ipykernel)",
   "language": "python",
   "name": "python3"
  },
  "language_info": {
   "codemirror_mode": {
    "name": "ipython",
    "version": 3
   },
   "file_extension": ".py",
   "mimetype": "text/x-python",
   "name": "python",
   "nbconvert_exporter": "python",
   "pygments_lexer": "ipython3",
   "version": "3.11.6"
  }
 },
 "nbformat": 4,
 "nbformat_minor": 5
}
